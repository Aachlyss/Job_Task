{
 "cells": [
  {
   "cell_type": "markdown",
   "metadata": {},
   "source": [
    "# Task 1\n",
    "Write a Python script that loads an article from the internet and generates a summary and title\n",
    "using a large language model (LLM)."
   ]
  },
  {
   "cell_type": "code",
   "execution_count": 1,
   "metadata": {},
   "outputs": [],
   "source": [
    "# Importing Libraries that I will be using in the project\n",
    "import requests\n",
    "from bs4 import BeautifulSoup #For Parsing HMTL\n",
    "import re #Manipulating text (e.g. removing words, such as in my case)\n",
    "from typing import List #Not necessary at all, I just saw it from a book and I though it would be good practice and also look good."
   ]
  },
  {
   "cell_type": "markdown",
   "metadata": {},
   "source": [
    "# Step 1 - Scraping an article for raw, readable and clean imput text\n",
    "Methods \"fetch_parse\" and \"clean_text\" for fetching the text from the web and transforming it into a nice and readable block of text."
   ]
  },
  {
   "cell_type": "markdown",
   "metadata": {},
   "source": [
    "# 1.1 - fetch_parse"
   ]
  },
  {
   "cell_type": "code",
   "execution_count": 2,
   "metadata": {},
   "outputs": [],
   "source": [
    "def fetch_parse(url: str, headers: dict) -> List[str]:\n",
    "    page_to_be_scraped = requests.get(url, headers=headers)\n",
    "    soup = BeautifulSoup(page_to_be_scraped.text, \"html.parser\")\n",
    "    p_paragraphs = soup.find_all(\"p\") #Finds paragraph(<p>) tags in the HTML file\n",
    "    pure_paragraphs = [p.get_text(strip=True) for p in p_paragraphs]\n",
    "\n",
    "    return pure_paragraphs"
   ]
  },
  {
   "cell_type": "markdown",
   "metadata": {},
   "source": [
    "# 1.2 - clean_text"
   ]
  },
  {
   "cell_type": "code",
   "execution_count": 6,
   "metadata": {},
   "outputs": [],
   "source": [
    "def clean_text(text_list: list) -> List:\n",
    "    # Convert list to a single string\n",
    "    text = \"\\n\".join(text_list)\n",
    "\n",
    "    # Removing common metadata\n",
    "    text = re.sub(r\"(?i)\\b(Share this story:|Tags:|Categories:|Subscribe now|See also:|Want to learn more about .*?)\\b.*\", \"\", text)\n",
    "\n",
    "    # Detect and remove block of short lines at the start (tags)\n",
    "    lines = text.split(\"\\n\")\n",
    "    filtered_lines = []\n",
    "    for line in lines:\n",
    "        if len(line.split()) > 5:  # Keep only the lines that have more than 5 words\n",
    "            filtered_lines.append(line)\n",
    "        elif filtered_lines:  # Once we hit real content -> stop filtering\n",
    "            filtered_lines.append(line)\n",
    "\n",
    "    text = \"\\n\".join(filtered_lines)\n",
    "\n",
    "    return text.strip()"
   ]
  },
  {
   "cell_type": "markdown",
   "metadata": {},
   "source": [
    "# 1.3 - Clean Text Result\n"
   ]
  },
  {
   "cell_type": "code",
   "execution_count": 8,
   "metadata": {},
   "outputs": [
    {
     "name": "stdout",
     "output_type": "stream",
     "text": [
      "AI is heating up, and we’re diving in!TechCrunch Sessions: AIis officially open for registration. Secure your spot now and save up to $300 on select tickets before prices rise\n",
      "From startup founders to AI investors to aspiring innovators — TC Sessions: AI is where the entire AI ecosystem comes together. Whether you’re building, funding, or learning, immerse yourself in the latest breakthroughs shaping the future.\n",
      "Register your ticket at the lowest rate.\n",
      "On June 5, TechCrunch is bringing AI’s brightest minds to Zellerbach Hall at UC Berkeley. Join 1,200 industry leaders for a full day of expert-led main stage talks, thought-provoking roundtable discussions, and hands-on exploration of the latest AI innovations in our Expo Hall.\n",
      "Network with the minds shaping AI’s future. Whether you’re pitching to investors, learning from seasoned mentors, finding a co-founder, or exchanging ideas in small group discussions, TechCrunch Sessions: AI is where impactful connections begin. The right connection could take your AI journey to the next level.\n",
      "More AI visionaries are joining the conversation. Check theTC Sessions: AI event pagefor the latest speaker announcements and see who else will take the stage to share cutting-edge AI insights.\n",
      "As a partner atIVP, Shravan Narayen backs ambitious founders solving complex technical problems in enterprise infrastructure and applications. His investments span leading AI and infrastructure startups, including Perplexity, Baseten, Chainguard, Cortex, Eightfold, and Glean.\n",
      "With experience across a startup’s full lifecycle—most recently in product at Snowflake—Shravan brings deep operational insights to the companies he supports. His goal? To help founders navigate the journey of building enduring, category-defining businesses.\n",
      "He currently serves as a director or board observer for Cortex, Perplexity, Baseten, and Eightfold AI.\n",
      "Jill is an investment partner atCapitalG, where she leads the AI investing practice for Alphabet’s independent growth fund. With a background working alongside senior Googlers and AI experts, she has refined her AI/ML investment thesis and worked with leading founders and technologists in the space.\n",
      "Joining CapitalG in 2020, Jill has spearheaded investments in Magic, /dev/agents, and Motif. She also lectures at the Stanford University Graduate School of Business, where she’s been a guest lecturer since 2019.\n",
      "Jill’s prior experience includes serving as CEO of a private equity-backed company and founding a Y Combinator-backed startup.\n",
      "Jae Lee is the co-founder and CEO ofTwelve Labs, where he leads the development of advanced multimodal foundation models. His mission is to transform how developers and enterprises analyze and understand massive video corpora, pushing the boundaries of AI-powered video intelligence.\n",
      "Save up to $300 on select tickets and immerse yourself in the world of AI. Don’t miss out on this opportunity to experience top-tier TechCrunch content at unbeatable rates. We’ll showcase the future of AI innovation through expert-led sessions and presentations.Register your ticket at the lowest rate before they go up!\n",
      "Is your company interested in sponsoring or exhibiting at TechCrunch Sessions: AI? Contact our sponsorship sales team byfilling out this form.\n",
      "Topics\n",
      "a16z hires acquitted former Marine Daniel Penny as an investor\n",
      "AMD pulls up the release of its next-gen data center GPUs\n",
      "Google removes pledge to not use AI for weapons from website\n",
      "An angel investor was so intrigued by this startup, he joined as a co-founder\n",
      "Cruise to slash workforce by nearly 50% after GM cuts funding to robotaxi operations\n",
      "Ontario cancels, then restores, $68 million Starlink contract after protesting US tariffs\n",
      "Hot Tub, the first native iPhone porn app, arrives in EU\n",
      "Subscribe for the industry’s biggest tech news\n",
      "Every weekday and Sunday, you can get the best of TechCrunch’s coverage.\n",
      "TechCrunch's AI experts cover the latest news in the fast-moving field.\n",
      "Every Monday, gets you up to speed on the latest advances in aerospace.\n",
      "Startups are the core of TechCrunch, so get our best coverage delivered weekly.\n",
      "By submitting your email, you agree to ourTermsandPrivacy Notice.\n",
      "© 2024 Yahoo.\n"
     ]
    }
   ],
   "source": [
    "url = \"https://techcrunch.com/2025/02/05/ais-biggest-stage-awaits-techcrunch-sessions-ai-tickets-available/\" #URL to be scraped\n",
    "headers = {'User-Agent': 'Mozilla/5.0'} #Here we are using an User-Agent because many websites have protection against bots that are doing the same thing we are\n",
    "\n",
    "\n",
    "cleaned_text = clean_text(fetch_parse(url, headers))\n",
    "print(cleaned_text)"
   ]
  },
  {
   "cell_type": "code",
   "execution_count": null,
   "metadata": {},
   "outputs": [],
   "source": []
  }
 ],
 "metadata": {
  "kernelspec": {
   "display_name": "Python 3 (ipykernel)",
   "language": "python",
   "name": "python3"
  },
  "language_info": {
   "codemirror_mode": {
    "name": "ipython",
    "version": 3
   },
   "file_extension": ".py",
   "mimetype": "text/x-python",
   "name": "python",
   "nbconvert_exporter": "python",
   "pygments_lexer": "ipython3",
   "version": "3.11.9"
  }
 },
 "nbformat": 4,
 "nbformat_minor": 4
}
